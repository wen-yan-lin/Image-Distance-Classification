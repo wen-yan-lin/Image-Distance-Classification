{
 "cells": [
  {
   "cell_type": "code",
   "execution_count": 2,
   "metadata": {},
   "outputs": [
    {
     "name": "stdout",
     "output_type": "stream",
     "text": [
      "The autoreload extension is already loaded. To reload it, use:\n",
      "  %reload_ext autoreload\n",
      "STL-10\n"
     ]
    }
   ],
   "source": [
    "%load_ext autoreload\n",
    "%autoreload 2\n",
    "\n",
    "import numpy as np\n",
    "from data_loader import import_data\n",
    "from shell_classifier import DistanceClassifier\n",
    "\n",
    "data_set = 1\n",
    "x_train, y_train, x_test, y_test, _ = import_data(data_set)\n"
   ]
  },
  {
   "cell_type": "code",
   "execution_count": 3,
   "metadata": {},
   "outputs": [],
   "source": [
    "test_vec = np.mean(x_train, axis=0, keepdims=True)\n",
    "\n",
    "clf = DistanceClassifier(test_vec = test_vec,\n",
    "                        num_clusters = 30, \n",
    "                        num_reps = 10)\n",
    "clf.fit(x_train, y_train)"
   ]
  },
  {
   "cell_type": "code",
   "execution_count": 8,
   "metadata": {},
   "outputs": [
    {
     "name": "stdout",
     "output_type": "stream",
     "text": [
      "ratio validation\n",
      "auroc: 0.9987462962962962\n",
      "([0.9989777777777777, 0.9994407407407409, 0.9995432098765432, 0.9984037037037037, 0.9986950617283951, 0.9970975308641975, 0.9978234567901234, 0.999325925925926, 0.9989740740740741, 0.9991814814814814], 0.9987462962962962)\n",
      "auprc: 0.988797302462799\n",
      "([0.989384876647714, 0.9954363493820284, 0.9956937775370935, 0.9860943532757132, 0.987778029120698, 0.9754034137363906, 0.9817924491532527, 0.9943202545867942, 0.9890137545252883, 0.9930557666630158], 0.988797302462799)\n",
      "multi-class accuracy: 0.9746666666666667\n"
     ]
    }
   ],
   "source": [
    "est_class = clf.predict(x_test)\n",
    "pred = clf.decision_function(x_test, use_test_vec = False)\n",
    "from shell_classifier import auroc_eval, auprc_eval\n",
    "print(auroc_eval(pred.T, y_test))\n",
    "print(auprc_eval(pred.T, y_test))\n",
    "print('multi-class accuracy:', np.mean(est_class[:,0] == y_test))"
   ]
  },
  {
   "cell_type": "code",
   "execution_count": 9,
   "metadata": {},
   "outputs": [
    {
     "name": "stdout",
     "output_type": "stream",
     "text": [
      "full validation\n",
      "auroc: 0.9986391358024692\n",
      "([0.999479012345679, 0.9994728395061728, 0.9994703703703703, 0.9983086419753087, 0.9975481481481482, 0.9969938271604938, 0.9976530864197531, 0.9995345679012346, 0.9991802469135802, 0.9987506172839506], 0.9986391358024692)\n",
      "auprc: 0.9890814529308166\n",
      "([0.9954522775468844, 0.9953531992509697, 0.9952884791245733, 0.986012892622306, 0.9781264270024601, 0.9805343565507537, 0.9825399033865264, 0.9965457561449096, 0.9915514868313885, 0.9894097508473926], 0.9890814529308166)\n",
      "multi-class accuracy: 0.9746666666666667\n"
     ]
    }
   ],
   "source": [
    "est_class = clf.predict(x_test)\n",
    "pred = clf.decision_function(x_test, use_test_vec = True)\n",
    "from shell_classifier import auroc_eval, auprc_eval\n",
    "print(auroc_eval(pred.T, y_test))\n",
    "print(auprc_eval(pred.T, y_test))\n",
    "print('multi-class accuracy:', np.mean(est_class[:,0] == y_test))"
   ]
  }
 ],
 "metadata": {
  "kernelspec": {
   "display_name": "Python 3 (ipykernel)",
   "language": "python",
   "name": "python3"
  },
  "language_info": {
   "codemirror_mode": {
    "name": "ipython",
    "version": 3
   },
   "file_extension": ".py",
   "mimetype": "text/x-python",
   "name": "python",
   "nbconvert_exporter": "python",
   "pygments_lexer": "ipython3",
   "version": "3.10.4"
  }
 },
 "nbformat": 4,
 "nbformat_minor": 4
}
