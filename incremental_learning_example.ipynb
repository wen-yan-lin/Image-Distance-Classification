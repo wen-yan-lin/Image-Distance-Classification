{
 "cells": [
  {
   "cell_type": "markdown",
   "metadata": {},
   "source": [
    "# Demonstrating that incremental learning and non-incremental learning have similar accuracy"
   ]
  },
  {
   "cell_type": "code",
   "execution_count": 7,
   "metadata": {},
   "outputs": [
    {
     "name": "stdout",
     "output_type": "stream",
     "text": [
      "The autoreload extension is already loaded. To reload it, use:\n",
      "  %reload_ext autoreload\n",
      "mnist\n"
     ]
    }
   ],
   "source": [
    "%load_ext autoreload\n",
    "%autoreload 2\n",
    "\n",
    "import numpy as np\n",
    "from dataLoader import import_data\n",
    "from shell_classifier import DistanceClassifier, auprc_eval, auroc_eval\n",
    "\n",
    "data_set = 5\n",
    "x_train, y_train, x_test, y_test, _ = import_data(data_set)\n"
   ]
  },
  {
   "cell_type": "markdown",
   "metadata": {},
   "source": [
    "## Incremental Learning "
   ]
  },
  {
   "cell_type": "code",
   "execution_count": 5,
   "metadata": {},
   "outputs": [
    {
     "name": "stdout",
     "output_type": "stream",
     "text": [
      "Learning Incrementally\n",
      "Clusters per class: 30\n",
      "Repetitions per class: 10\n",
      "Number of classes: 5\n",
      "processing class: 0, 1, 2, 3, 4, Clusters per class: 30\n",
      "Repetitions per class: 10\n",
      "Number of classes: 10\n",
      "processing class: 5, 6, 7, 8, 9, "
     ]
    }
   ],
   "source": [
    "print('Learning Incrementally')\n",
    "clf = DistanceClassifier(test_vec = None,\n",
    "                        num_clusters = 30, \n",
    "                        num_reps = 10)\n",
    "\n",
    "mask = y_train < 5 \n",
    "clf.fit(x_train[mask], y_train[mask])\n",
    "\n",
    "mask = y_train >= 5 \n",
    "clf.fit(x_train[mask], y_train[mask])"
   ]
  },
  {
   "cell_type": "code",
   "execution_count": 8,
   "metadata": {},
   "outputs": [
    {
     "name": "stdout",
     "output_type": "stream",
     "text": [
      "incremental evaluation statistics\n",
      "ratio validation\n",
      "auroc: 0.9977605813250172\n",
      "([0.999480180098647, 0.9998238879322981, 0.9978997244293232, 0.9977688080265202, 0.9973487060728058, 0.9977162441336744, 0.9992543495697878, 0.9975318804200184, 0.9966975395287445, 0.9940844930383528], 0.9977605813250172)\n",
      "auprc: 0.9810816337608703\n",
      "([0.9966047408403066, 0.9987677974828368, 0.9830241584668615, 0.9810621487299837, 0.9737539036422433, 0.9797197190857936, 0.9937464926653211, 0.9805934687703877, 0.9684039312648414, 0.9551399766601267], 0.9810816337608703)\n",
      "multi-class accuracy: 0.959\n"
     ]
    }
   ],
   "source": [
    "print('incremental evaluation statistics')\n",
    "est_class = clf.predict(x_test)\n",
    "pred = clf.decision_function(x_test, use_test_vec = False)\n",
    "print(auroc_eval(pred.T, y_test))\n",
    "print(auprc_eval(pred.T, y_test))\n",
    "print('multi-class accuracy:', np.mean(est_class[:,0] == y_test))"
   ]
  },
  {
   "cell_type": "markdown",
   "metadata": {},
   "source": [
    "## Non-Incremental Learning \n"
   ]
  },
  {
   "cell_type": "code",
   "execution_count": 9,
   "metadata": {},
   "outputs": [
    {
     "name": "stdout",
     "output_type": "stream",
     "text": [
      "Learning Non-Incrementally\n",
      "Clusters per class: 30\n",
      "Repetitions per class: 10\n",
      "Number of classes: 10\n",
      "processing class: 0, 1, 2, 3, 4, 5, 6, 7, 8, 9, \n",
      "\n"
     ]
    }
   ],
   "source": [
    "print('Learning Non-Incrementally')\n",
    "clf = DistanceClassifier(test_vec = None,\n",
    "                        num_clusters = 30, \n",
    "                        num_reps = 10)\n",
    "\n",
    "clf.fit(x_train, y_train)"
   ]
  },
  {
   "cell_type": "code",
   "execution_count": 10,
   "metadata": {},
   "outputs": [
    {
     "name": "stdout",
     "output_type": "stream",
     "text": [
      "non-incremental evaluation statistics\n",
      "ratio validation\n",
      "auroc: 0.9976865367484862\n",
      "([0.9995517896737408, 0.9998317394296732, 0.997704802259887, 0.9977006354695537, 0.9972459471191133, 0.997734707180993, 0.9992695881294391, 0.9977126199798422, 0.9964533214792219, 0.9936602167633992], 0.9976865367484862)\n",
      "auprc: 0.9802652135513877\n",
      "([0.9967757301980541, 0.9988083791973892, 0.982119321609043, 0.9818732936342744, 0.9708985307264777, 0.9778513650498604, 0.9942903534853151, 0.9826876143465073, 0.96645151176387, 0.9508960355030869], 0.9802652135513877)\n",
      "multi-class accuracy: 0.9574\n"
     ]
    }
   ],
   "source": [
    "print('non-incremental evaluation statistics')\n",
    "est_class = clf.predict(x_test)\n",
    "pred = clf.decision_function(x_test, use_test_vec = False)\n",
    "print(auroc_eval(pred.T, y_test))\n",
    "print(auprc_eval(pred.T, y_test))\n",
    "print('multi-class accuracy:', np.mean(est_class[:,0] == y_test))"
   ]
  },
  {
   "cell_type": "markdown",
   "metadata": {},
   "source": [
    "## Observe that without test-vectors, both incremental and non-incremental learning have similar performance \n"
   ]
  },
  {
   "cell_type": "code",
   "execution_count": null,
   "metadata": {},
   "outputs": [],
   "source": []
  }
 ],
 "metadata": {
  "kernelspec": {
   "display_name": "Python 3 (ipykernel)",
   "language": "python",
   "name": "python3"
  },
  "language_info": {
   "codemirror_mode": {
    "name": "ipython",
    "version": 3
   },
   "file_extension": ".py",
   "mimetype": "text/x-python",
   "name": "python",
   "nbconvert_exporter": "python",
   "pygments_lexer": "ipython3",
   "version": "3.10.4"
  }
 },
 "nbformat": 4,
 "nbformat_minor": 4
}
