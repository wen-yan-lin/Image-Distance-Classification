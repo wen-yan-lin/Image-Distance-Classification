{
 "cells": [
  {
   "cell_type": "markdown",
   "metadata": {},
   "source": [
    "# This paper explains how image distances are often corrupted by noise and shows how the noise can be cancelled.  "
   ]
  },
  {
   "cell_type": "code",
   "execution_count": 16,
   "metadata": {},
   "outputs": [
    {
     "name": "stdout",
     "output_type": "stream",
     "text": [
      "The autoreload extension is already loaded. To reload it, use:\n",
      "  %reload_ext autoreload\n",
      "STL-10\n"
     ]
    }
   ],
   "source": [
    "%load_ext autoreload\n",
    "%autoreload 2\n",
    "\n",
    "import numpy as np\n",
    "from data_loader import import_data\n",
    "from shell_classifier import normIt\n",
    "from sklearn.metrics import pairwise_distances, roc_auc_score\n",
    "import matplotlib.pyplot as plt\n",
    "\n",
    "data_set = 1\n",
    "x_train, y_train, x_test, y_test, _ = import_data(data_set)\n",
    "num_class = np.max(y_train) + 1\n",
    "num_dim = x_train.shape[1]"
   ]
  },
  {
   "cell_type": "markdown",
   "metadata": {},
   "source": [
    "## Problem with Naive Distance"
   ]
  },
  {
   "cell_type": "code",
   "execution_count": 17,
   "metadata": {},
   "outputs": [],
   "source": [
    "def est_class_means(x_train, y_train):\n",
    "    num_class = np.max(y_train) + 1\n",
    "    num_dim = x_train.shape[1]\n",
    "    means = np.zeros([num_class, num_dim])\n",
    "    for i in range(num_class):\n",
    "        means[i] = np.mean(x_train[y_train==i], axis=0)\n",
    "    return means"
   ]
  },
  {
   "cell_type": "code",
   "execution_count": 18,
   "metadata": {},
   "outputs": [
    {
     "name": "stdout",
     "output_type": "stream",
     "text": [
      "nereat-mean classification is quite accurate.\n",
      "accuracy: 0.942\n"
     ]
    }
   ],
   "source": [
    "means = est_class_means(x_train, y_train)\n",
    "feat_mean_dist = pairwise_distances(x_test, means) ** 2\n",
    "labels = np.argmin(feat_mean_dist, axis=1)\n",
    "print('nereat-mean classification is quite accurate.')\n",
    "print('accuracy:', np.mean(labels==y_test))"
   ]
  },
  {
   "cell_type": "code",
   "execution_count": 19,
   "metadata": {},
   "outputs": [
    {
     "name": "stdout",
     "output_type": "stream",
     "text": [
      "But the distance to the mean does not seem to indicate class seperation ?????\n",
      "Try different class indexes, the trend holds true.\n"
     ]
    },
    {
     "data": {
      "image/png": "[encoded data removed]",
      "text/plain": [
       "<Figure size 432x288 with 1 Axes>"
      ]
     },
     "metadata": {
      "needs_background": "light"
     },
     "output_type": "display_data"
    }
   ],
   "source": [
    "class_index = 0\n",
    "mask = y_test == class_index\n",
    "plt.hist(feat_mean_dist[mask,class_index], alpha=0.5)\n",
    "plt.hist(feat_mean_dist[~mask,class_index], alpha=0.5)\n",
    "plt.legend(['in_class instances', 'out_of_class instances'])\n",
    "print('But the distance to the mean does not seem to indicate class seperation ?????')\n",
    "print('Try different class indexes, the trend holds true.')"
   ]
  },
  {
   "cell_type": "code",
   "execution_count": 20,
   "metadata": {},
   "outputs": [
    {
     "name": "stdout",
     "output_type": "stream",
     "text": [
      "The poor performance of distance based class validation can be verified empirically.\n",
      "average auroc: 0.8779491358024691\n"
     ]
    }
   ],
   "source": [
    "auroc_scores = np.zeros(num_class)\n",
    "for i in range(num_class):\n",
    "    auroc_scores[i] = roc_auc_score(y_test == i, -feat_mean_dist[:,i])\n",
    "print('The poor performance of distance based class validation can be verified empirically.')\n",
    "print('average auroc:', np.mean(auroc_scores))"
   ]
  },
  {
   "cell_type": "markdown",
   "metadata": {},
   "source": [
    "## Noise cancellation\n",
    "\n",
    "We hypothesize that noise induces a constant, instance specific offset to distances.\n",
    "This would mean that the impact of noise can be offset by subtracting the distance from a vector that is indepdent of the underlying generative processes. Ideally, this vector should be as close to the mean of such generative procsses as possible.\n",
    "\n"
   ]
  },
  {
   "cell_type": "code",
   "execution_count": 21,
   "metadata": {},
   "outputs": [
    {
     "name": "stdout",
     "output_type": "stream",
     "text": [
      "\n",
      "     With noise cancellation can be used to validate class membership.\n",
      "     The dataset mean is used as the reference vector in noise cancellation.\n",
      "     \n"
     ]
    },
    {
     "data": {
      "image/png": "[encoded data removed]",
      "text/plain": [
       "<Figure size 432x288 with 1 Axes>"
      ]
     },
     "metadata": {
      "needs_background": "light"
     },
     "output_type": "display_data"
    }
   ],
   "source": [
    "print('''\n",
    "     With noise cancellation can be used to validate class membership.\n",
    "     The dataset mean is used as the reference vector in noise cancellation.\n",
    "     '''\n",
    "     )\n",
    "ref_vec = np.mean(x_train, axis=0, keepdims=True)\n",
    "dis_2_vec = pairwise_distances(x_test, ref_vec) ** 2\n",
    "noise_canceled_dist = feat_mean_dist - dis_2_vec\n",
    "\n",
    "mask = y_test == class_index\n",
    "plt.hist(noise_canceled_dist[mask,class_index], alpha=0.5)\n",
    "plt.hist(noise_canceled_dist[~mask,class_index], alpha=0.5);\n"
   ]
  },
  {
   "cell_type": "code",
   "execution_count": 22,
   "metadata": {},
   "outputs": [
    {
     "name": "stdout",
     "output_type": "stream",
     "text": [
      "\n",
      "     Reference vector can be a random vector whose mean and magnitude is somewhat similar to current data.\n",
      "     \n"
     ]
    },
    {
     "data": {
      "image/png": "[encoded data removed]",
      "text/plain": [
       "<Figure size 432x288 with 1 Axes>"
      ]
     },
     "metadata": {
      "needs_background": "light"
     },
     "output_type": "display_data"
    }
   ],
   "source": [
    "print('''\n",
    "     Reference vector can be a random vector whose mean and magnitude is somewhat similar to current data.\n",
    "     '''\n",
    "     )\n",
    "\n",
    "\n",
    "average_mag = np.mean(np.linalg.norm(x_train, axis=1))\n",
    "ref_vec = (np.random.random([1, num_dim])) - 0.5 + np.mean(x_train)\n",
    "ref_vec = ref_vec * (average_mag / np.mean(np.linalg.norm(ref_vec, axis=1)))\n",
    "\n",
    "dis_2_vec = pairwise_distances(x_test, ref_vec) ** 2\n",
    "noise_canceled_dist = feat_mean_dist - dis_2_vec\n",
    "\n",
    "mask = y_test == class_index\n",
    "plt.hist(noise_canceled_dist[mask,class_index], alpha=0.5)\n",
    "plt.hist(noise_canceled_dist[~mask,class_index], alpha=0.5);\n"
   ]
  },
  {
   "cell_type": "code",
   "execution_count": 23,
   "metadata": {},
   "outputs": [
    {
     "name": "stdout",
     "output_type": "stream",
     "text": [
      "\n",
      "     Normalization is a form of noise cancellation.\n",
      "     \n"
     ]
    },
    {
     "data": {
      "image/png": "[encoded data removed]",
      "text/plain": [
       "<Figure size 432x288 with 1 Axes>"
      ]
     },
     "metadata": {
      "needs_background": "light"
     },
     "output_type": "display_data"
    }
   ],
   "source": [
    "print('''\n",
    "     Normalization is a form of noise cancellation.\n",
    "     '''\n",
    "     )\n",
    "\n",
    "\n",
    "x_train_norm, norm_vec = normIt(x_train)\n",
    "x_test_norm, _ = normIt(x_test, norm_vec)\n",
    "mean_normed = est_class_means(x_train_norm, y_train)\n",
    "pairwise_distances_normed = pairwise_distances(x_test_norm, mean_normed)\n",
    "\n",
    "mask = y_test == class_index\n",
    "plt.hist(pairwise_distances_normed[mask,class_index], alpha=0.5)\n",
    "plt.hist(pairwise_distances_normed[~mask,class_index], alpha=0.5);\n"
   ]
  },
  {
   "cell_type": "code",
   "execution_count": 24,
   "metadata": {},
   "outputs": [
    {
     "name": "stdout",
     "output_type": "stream",
     "text": [
      "\n",
      "     If a reference vector cannot be estimated, instance normalization can be a solution.\n",
      "        @article{linlocally,\n",
      "          title={Locally Varying Distance Transform for Unsupervised Visual Anomaly Detection},\n",
      "          author={Lin, Wen-Yan and Liu, Zhonghang and Liu, Siying},\n",
      "          journal={ECCV},\n",
      "          year={2022}\n",
      "        }     \n",
      "    \n"
     ]
    },
    {
     "data": {
      "image/png": "[encoded data removed]",
      "text/plain": [
       "<Figure size 432x288 with 1 Axes>"
      ]
     },
     "metadata": {
      "needs_background": "light"
     },
     "output_type": "display_data"
    }
   ],
   "source": [
    "print('''\n",
    "     If a reference vector cannot be estimated, instance normalization can be a solution.\n",
    "        @article{linlocally,\n",
    "          title={Locally Varying Distance Transform for Unsupervised Visual Anomaly Detection},\n",
    "          author={Lin, Wen-Yan and Liu, Zhonghang and Liu, Siying},\n",
    "          journal={ECCV},\n",
    "          year={2022}\n",
    "        }     \n",
    "    '''\n",
    "     )\n",
    "\n",
    "def instance_norm(data):\n",
    "    norm_data = data - np.mean(data, axis=1, keepdims=True)\n",
    "    norm_data = norm_data / np.linalg.norm(norm_data, axis=1, keepdims=True)\n",
    "    return norm_data\n",
    "\n",
    "x_train_norm = instance_norm(x_train)\n",
    "x_test_norm = instance_norm(x_test)\n",
    "\n",
    "\n",
    "mean_normed = est_class_means(x_train_norm, y_train)\n",
    "pairwise_distances_normed = pairwise_distances(x_test_norm, mean_normed)\n",
    "\n",
    "mask = y_test == class_index\n",
    "plt.hist(pairwise_distances_normed[mask,class_index], alpha=0.5)\n",
    "plt.hist(pairwise_distances_normed[~mask,class_index], alpha=0.5);\n"
   ]
  },
  {
   "cell_type": "code",
   "execution_count": null,
   "metadata": {},
   "outputs": [],
   "source": []
  }
 ],
 "metadata": {
  "kernelspec": {
   "display_name": "Python 3 (ipykernel)",
   "language": "python",
   "name": "python3"
  },
  "language_info": {
   "codemirror_mode": {
    "name": "ipython",
    "version": 3
   },
   "file_extension": ".py",
   "mimetype": "text/x-python",
   "name": "python",
   "nbconvert_exporter": "python",
   "pygments_lexer": "ipython3",
   "version": "3.10.4"
  }
 },
 "nbformat": 4,
 "nbformat_minor": 4
}
